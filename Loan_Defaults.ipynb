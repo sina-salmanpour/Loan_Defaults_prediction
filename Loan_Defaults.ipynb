{
  "nbformat": 4,
  "nbformat_minor": 0,
  "metadata": {
    "colab": {
      "provenance": [],
      "mount_file_id": "1HU-G49m-mbcB9KoqsqZcvk2HKPjw6YEg",
      "authorship_tag": "ABX9TyPV4Jp3M6raxpjWDeZ8ZM/j",
      "include_colab_link": true
    },
    "kernelspec": {
      "name": "python3",
      "display_name": "Python 3"
    },
    "language_info": {
      "name": "python"
    }
  },
  "cells": [
    {
      "cell_type": "markdown",
      "metadata": {
        "id": "view-in-github",
        "colab_type": "text"
      },
      "source": [
        "<a href=\"https://colab.research.google.com/github/sina-salmanpour/Loan_Defaults_prediction/blob/main/Loan_Defaults.ipynb\" target=\"_parent\"><img src=\"https://colab.research.google.com/assets/colab-badge.svg\" alt=\"Open In Colab\"/></a>"
      ]
    },
    {
      "cell_type": "markdown",
      "source": [
        "Importing Libraries"
      ],
      "metadata": {
        "id": "ZtugYEWYaLFg"
      }
    },
    {
      "cell_type": "code",
      "execution_count": 25,
      "metadata": {
        "id": "Om7qBF-xYSeg"
      },
      "outputs": [],
      "source": [
        "import pandas as pd\n",
        "import numpy as np\n",
        "import matplotlib.pyplot as plt\n",
        "import seaborn as sns\n",
        "\n",
        "from sklearn.model_selection import train_test_split\n",
        "from sklearn.preprocessing import LabelEncoder, StandardScaler\n",
        "from sklearn.ensemble import RandomForestClassifier\n",
        "from sklearn.linear_model import LogisticRegression\n",
        "from sklearn.tree import DecisionTreeClassifier\n",
        "from sklearn.metrics import classification_report, confusion_matrix, roc_auc_score, roc_curve\n",
        "\n",
        "import warnings\n",
        "from IPython.core.interactiveshell import InteractiveShell"
      ]
    },
    {
      "cell_type": "markdown",
      "source": [
        "Libraries initial settings"
      ],
      "metadata": {
        "id": "-jSEMr-x6Mx_"
      }
    },
    {
      "cell_type": "code",
      "source": [
        "## Following lines are used to control how warnings are displayed.\n",
        "\n",
        "warnings.filterwarnings('ignore')\n",
        "warnings.simplefilter(action=\"ignore\", category=FutureWarning)  # warnings about features that will change in the future.\n",
        "warnings.simplefilter(action=\"ignore\", category=Warning)        # more general category for warnings.\n",
        "\n",
        "\n",
        "## Setting below is related to how IPython displays output.\n",
        "## The results of all statements in a cell that would normally be displayed are shown\n",
        "\n",
        "InteractiveShell.ast_node_interactivity = \"all\"\n",
        "\n",
        "# matplotlib plots are displayed directly within the notebook output\n",
        "\n",
        "%matplotlib inline\n",
        "np.set_printoptions(suppress=True)\n",
        "plt.rcParams[\"figure.figsize\"] = (10,6)\n",
        "plt.rcParams['figure.dpi'] = 100\n",
        "\n",
        "sns.set_style(\"whitegrid\")\n",
        "\n",
        "def set_seed(seed=42):\n",
        "    np.random.seed(seed)\n",
        "    os.environ[\"PYTHONHASHSEED\"] = str(seed)\n",
        "\n",
        "pd.set_option(\"display.width\", 100)\n",
        "pd.set_option(\"display.max_columns\", 60)\n",
        "pd.set_option(\"display.max_rows\", 25)\n",
        "pd.set_option(\"display.float_format\", lambda x: \"%.3f\" % x)\n"
      ],
      "metadata": {
        "id": "YEh2Iz_x6LqI"
      },
      "execution_count": 32,
      "outputs": []
    },
    {
      "cell_type": "markdown",
      "source": [
        "Loading Dataset"
      ],
      "metadata": {
        "id": "DB8X-ZynzKY6"
      }
    },
    {
      "cell_type": "code",
      "source": [
        "df = pd.read_csv('/content/drive/MyDrive/Loan Defaults/Dataset ARCHIVE/Training Data.csv')"
      ],
      "metadata": {
        "id": "vvLZoQNKaKso"
      },
      "execution_count": 11,
      "outputs": []
    },
    {
      "cell_type": "markdown",
      "source": [
        "Initial inspection"
      ],
      "metadata": {
        "id": "Ff_vh7gdzdIT"
      }
    },
    {
      "cell_type": "code",
      "source": [
        "print(\"Dataset Shape:\", df.shape)\n",
        "print(\"\\nDataset Info:\")\n",
        "print(df.info())\n",
        "print(\"\\nFirst 5 rows:\")\n",
        "print(df.head())\n",
        "print(\"\\nTarget variable distribution:\")\n",
        "print(df['Risk_Flag'].value_counts())"
      ],
      "metadata": {
        "colab": {
          "base_uri": "https://localhost:8080/"
        },
        "id": "MTym0nyHzcrk",
        "outputId": "6d84c8bb-adc7-480f-c271-4c3882c41c16"
      },
      "execution_count": 12,
      "outputs": [
        {
          "output_type": "stream",
          "name": "stdout",
          "text": [
            "Dataset Shape: (252000, 13)\n",
            "\n",
            "Dataset Info:\n",
            "<class 'pandas.core.frame.DataFrame'>\n",
            "RangeIndex: 252000 entries, 0 to 251999\n",
            "Data columns (total 13 columns):\n",
            " #   Column             Non-Null Count   Dtype \n",
            "---  ------             --------------   ----- \n",
            " 0   Id                 252000 non-null  int64 \n",
            " 1   Income             252000 non-null  int64 \n",
            " 2   Age                252000 non-null  int64 \n",
            " 3   Experience         252000 non-null  int64 \n",
            " 4   Married/Single     252000 non-null  object\n",
            " 5   House_Ownership    252000 non-null  object\n",
            " 6   Car_Ownership      252000 non-null  object\n",
            " 7   Profession         252000 non-null  object\n",
            " 8   CITY               252000 non-null  object\n",
            " 9   STATE              252000 non-null  object\n",
            " 10  CURRENT_JOB_YRS    252000 non-null  int64 \n",
            " 11  CURRENT_HOUSE_YRS  252000 non-null  int64 \n",
            " 12  Risk_Flag          252000 non-null  int64 \n",
            "dtypes: int64(7), object(6)\n",
            "memory usage: 25.0+ MB\n",
            "None\n",
            "\n",
            "First 5 rows:\n",
            "   Id   Income  Age  Experience Married/Single House_Ownership Car_Ownership  \\\n",
            "0   1  1303834   23           3         single          rented            no   \n",
            "1   2  7574516   40          10         single          rented            no   \n",
            "2   3  3991815   66           4        married          rented            no   \n",
            "3   4  6256451   41           2         single          rented           yes   \n",
            "4   5  5768871   47          11         single          rented            no   \n",
            "\n",
            "            Profession                 CITY           STATE  CURRENT_JOB_YRS  \\\n",
            "0  Mechanical_engineer                 Rewa  Madhya_Pradesh                3   \n",
            "1   Software_Developer             Parbhani     Maharashtra                9   \n",
            "2     Technical_writer            Alappuzha          Kerala                4   \n",
            "3   Software_Developer          Bhubaneswar          Odisha                2   \n",
            "4        Civil_servant  Tiruchirappalli[10]      Tamil_Nadu                3   \n",
            "\n",
            "   CURRENT_HOUSE_YRS  Risk_Flag  \n",
            "0                 13          0  \n",
            "1                 13          0  \n",
            "2                 10          0  \n",
            "3                 12          1  \n",
            "4                 14          1  \n",
            "\n",
            "Target variable distribution:\n",
            "Risk_Flag\n",
            "0    221004\n",
            "1     30996\n",
            "Name: count, dtype: int64\n"
          ]
        }
      ]
    },
    {
      "cell_type": "code",
      "source": [
        "# Check for missing values\n",
        "missing_values = df.isnull().sum()\n",
        "if missing_values.sum() == 0:\n",
        "    print(\"No missing values found in the dataset.\")\n",
        "else:\n",
        "    print(\"Missing Values:\")\n",
        "    print(missing_values[missing_values > 0])\n",
        "\n",
        "    # Calculate missing value percentages\n",
        "    missing_percent = (missing_values / len(df)) * 100\n",
        "    print(\"\\nMissing Value Percentages:\")\n",
        "    print(missing_percent[missing_percent > 0])"
      ],
      "metadata": {
        "colab": {
          "base_uri": "https://localhost:8080/"
        },
        "id": "MXApsQv30bI6",
        "outputId": "9c1cd542-25ae-4fba-b043-bcc3e8b81aaa"
      },
      "execution_count": 19,
      "outputs": [
        {
          "output_type": "stream",
          "name": "stdout",
          "text": [
            "No missing values found in the dataset.\n"
          ]
        }
      ]
    },
    {
      "cell_type": "code",
      "source": [
        "# Check for duplicate rows\n",
        "duplicate_rows = df.duplicated().sum()\n",
        "if duplicate_rows == 0:\n",
        "    print(\"\\nNo duplicate rows found in the dataset.\")\n",
        "else:\n",
        "    print(f\"\\nNumber of duplicate rows found: {duplicate_rows}\")"
      ],
      "metadata": {
        "colab": {
          "base_uri": "https://localhost:8080/"
        },
        "id": "Z55CepgW1IwD",
        "outputId": "534ff8e0-0704-4ba6-ee61-e9ce2f0083c3"
      },
      "execution_count": 20,
      "outputs": [
        {
          "output_type": "stream",
          "name": "stdout",
          "text": [
            "\n",
            "No duplicate rows found in the dataset.\n"
          ]
        }
      ]
    },
    {
      "cell_type": "code",
      "source": [],
      "metadata": {
        "id": "oaOuRU5W13FU"
      },
      "execution_count": null,
      "outputs": []
    }
  ]
}